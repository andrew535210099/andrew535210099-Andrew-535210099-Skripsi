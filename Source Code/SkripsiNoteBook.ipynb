version https://git-lfs.github.com/spec/v1
oid sha256:d4feb8af8a9c43bbc7d2fd1df64dc1376db43f529599ae2131fcc962967daea5
size 109286512
